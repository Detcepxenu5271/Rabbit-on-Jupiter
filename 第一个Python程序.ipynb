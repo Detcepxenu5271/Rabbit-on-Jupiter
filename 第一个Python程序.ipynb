{
 "cells": [
  {
   "cell_type": "markdown",
   "id": "5647a06d",
   "metadata": {},
   "source": [
    "# 第一个 Python 程序\n",
    "\n",
    "\n",
    "Hello World!\n",
    "\n",
    "## 一、程序要做什么——输入，处理，输出\n",
    "### 1.1 程序的结构\n",
    "可执行的语句（通过交互式命令行讲解）\n",
    "```python\n",
    "a = 11\n",
    "b = 12\n",
    "c = a + b\n",
    "```\n",
    "\n",
    "流程控制（之后讲）\n",
    "\n",
    "函数（之后讲）\n",
    "\n",
    "类（之后讲）\n",
    "\n",
    "### 1.2 \n"
   ]
  },
  {
   "cell_type": "code",
   "execution_count": null,
   "id": "220d35b5",
   "metadata": {},
   "outputs": [],
   "source": [
    "name = input()"
   ]
  },
  {
   "cell_type": "markdown",
   "id": "06a4bc61",
   "metadata": {},
   "source": [
    "数学\n",
    "* 10 = 10：对的\n",
    "* 10 = 11：错的\n",
    "\n",
    "编程\n",
    "* 变量 = 变量/常量\n",
    "\n",
    "变量 variable\n",
    "\n",
    "a = 10\n",
    "b = 10\n",
    "c = 11\n",
    "a = b\n",
    "a = c （x）\n",
    "\n",
    "a = c # 把 c 里的数据放到 a 里\n",
    "10 = 11 # 错误\n"
   ]
  }
 ],
 "metadata": {
  "kernelspec": {
   "display_name": "Python 3 (ipykernel)",
   "language": "python",
   "name": "python3"
  },
  "language_info": {
   "codemirror_mode": {
    "name": "ipython",
    "version": 3
   },
   "file_extension": ".py",
   "mimetype": "text/x-python",
   "name": "python",
   "nbconvert_exporter": "python",
   "pygments_lexer": "ipython3",
   "version": "3.8.10"
  }
 },
 "nbformat": 4,
 "nbformat_minor": 5
}
